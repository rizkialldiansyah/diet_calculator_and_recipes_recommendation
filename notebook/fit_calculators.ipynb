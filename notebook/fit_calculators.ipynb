{
 "cells": [
  {
   "cell_type": "markdown",
   "metadata": {},
   "source": [
    "# Calorie And Macro Calculator\n",
    "reference\n",
    "- https://www.musclehacking.com/calorie-calculator/#the-leangains-method\n",
    "- https://calculator-online.net/id/body-fat-percentage-calculator/ "
   ]
  },
  {
   "cell_type": "markdown",
   "metadata": {},
   "source": [
    "## Standard & Keto"
   ]
  },
  {
   "cell_type": "markdown",
   "metadata": {},
   "source": [
    "### BMR"
   ]
  },
  {
   "cell_type": "code",
   "execution_count": 40,
   "metadata": {},
   "outputs": [],
   "source": [
    "def calculate_bmr(gender, weight_kg, height_cm, age):\n",
    "    bmr = (10 * weight_kg) + (6.25 * height_cm) - (5 * age)\n",
    "    if gender == 'male':\n",
    "        return bmr + 5  \n",
    "    else:\n",
    "        return bmr - 161"
   ]
  },
  {
   "cell_type": "code",
   "execution_count": 41,
   "metadata": {},
   "outputs": [
    {
     "data": {
      "text/plain": [
       "1815.0"
      ]
     },
     "execution_count": 41,
     "metadata": {},
     "output_type": "execute_result"
    }
   ],
   "source": [
    "calculate_bmr('male', 80, 180, 23)"
   ]
  },
  {
   "cell_type": "code",
   "execution_count": 42,
   "metadata": {},
   "outputs": [
    {
     "data": {
      "text/plain": [
       "1435"
      ]
     },
     "execution_count": 42,
     "metadata": {},
     "output_type": "execute_result"
    }
   ],
   "source": [
    "(1861-1656)*7"
   ]
  },
  {
   "cell_type": "markdown",
   "metadata": {},
   "source": [
    "### TDEE"
   ]
  },
  {
   "cell_type": "code",
   "execution_count": 43,
   "metadata": {},
   "outputs": [],
   "source": [
    "def calculate_tdee(bmr, activity_level):\n",
    "    activity_levels = {\n",
    "        'sedentary': 1.2,\n",
    "        'lightly active': 1.375,\n",
    "        'moderately active': 1.55,\n",
    "        'very active': 1.725,\n",
    "        'super active': 1.9\n",
    "    }\n",
    "\n",
    "    if activity_level.lower() in activity_levels:\n",
    "        return bmr * activity_levels[activity_level.lower()]\n",
    "    else:\n",
    "        return \"Invalid activity level input\""
   ]
  },
  {
   "cell_type": "code",
   "execution_count": 44,
   "metadata": {},
   "outputs": [
    {
     "data": {
      "text/plain": [
       "2178.0"
      ]
     },
     "execution_count": 44,
     "metadata": {},
     "output_type": "execute_result"
    }
   ],
   "source": [
    "daily_tdee = calculate_tdee(calculate_bmr('male', 80, 180, 23), 'sedentary')\n",
    "daily_tdee"
   ]
  },
  {
   "cell_type": "markdown",
   "metadata": {},
   "source": [
    "### Daily Calories"
   ]
  },
  {
   "cell_type": "code",
   "execution_count": 45,
   "metadata": {},
   "outputs": [],
   "source": [
    "def calculate_daily_calories(tdee, goals):\n",
    "    goal_levels = {\n",
    "        'lose weight': -0.2,\n",
    "        'slowly lose weight': -0.1,\n",
    "        'maintain weight': 0,\n",
    "        'slowly gain weight': 0.1,\n",
    "        'gain weight': 0.2\n",
    "    }\n",
    "    return tdee + (tdee * goal_levels[goals.lower()])"
   ]
  },
  {
   "cell_type": "code",
   "execution_count": 46,
   "metadata": {},
   "outputs": [
    {
     "data": {
      "text/plain": [
       "1742.4"
      ]
     },
     "execution_count": 46,
     "metadata": {},
     "output_type": "execute_result"
    }
   ],
   "source": [
    "daily_cal = calculate_daily_calories(calculate_tdee(calculate_bmr('male', 80, 180, 23), 'sedentary'), 'lose weight')\n",
    "daily_cal"
   ]
  },
  {
   "cell_type": "markdown",
   "metadata": {},
   "source": [
    "### Estimate Lose/Gain Weigth"
   ]
  },
  {
   "cell_type": "code",
   "execution_count": 47,
   "metadata": {},
   "outputs": [],
   "source": [
    "def estimate_weigth(daily_cal, daily_tdee):\n",
    "    return round((((daily_tdee - daily_cal)*7)/3500) * 0.453592, 2)"
   ]
  },
  {
   "cell_type": "code",
   "execution_count": 48,
   "metadata": {},
   "outputs": [
    {
     "data": {
      "text/plain": [
       "0.19"
      ]
     },
     "execution_count": 48,
     "metadata": {},
     "output_type": "execute_result"
    }
   ],
   "source": [
    "estimate_weigth(1656, 1861)"
   ]
  },
  {
   "cell_type": "markdown",
   "metadata": {},
   "source": [
    "### Macro"
   ]
  },
  {
   "cell_type": "code",
   "execution_count": 49,
   "metadata": {},
   "outputs": [],
   "source": [
    "def calculate_macro(daily_calories, weight_kg, carbs_percentage):\n",
    "    pounds = weight_kg * 2.20462\n",
    "    protein_cal = pounds * 4\n",
    "    fat_percentage = 100 - carbs_percentage\n",
    "\n",
    "    carb_cal = (daily_calories - protein_cal) * (carbs_percentage / 100)\n",
    "    fat_cal = (daily_calories - protein_cal) * (fat_percentage / 100)\n",
    "\n",
    "    protein_gram = pounds\n",
    "    carbst_gram = carb_cal / 4\n",
    "    fat_gram = fat_cal / 9\n",
    "\n",
    "    return {\"protein\": protein_gram, \"carbs\": carbst_gram, \"fat\": fat_gram}"
   ]
  },
  {
   "cell_type": "code",
   "execution_count": 50,
   "metadata": {},
   "outputs": [
    {
     "data": {
      "text/plain": [
       "{'protein': 176.3696, 'carbs': 129.61520000000002, 'fat': 57.606755555555566}"
      ]
     },
     "execution_count": 50,
     "metadata": {},
     "output_type": "execute_result"
    }
   ],
   "source": [
    "max_macro = calculate_macro(daily_cal, 80, 50)\n",
    "max_macro"
   ]
  },
  {
   "cell_type": "markdown",
   "metadata": {},
   "source": [
    "## Food Sources Estimate"
   ]
  },
  {
   "cell_type": "code",
   "execution_count": 72,
   "metadata": {},
   "outputs": [],
   "source": [
    "import pandas as pd\n",
    "\n",
    "def load_food_sources(file_path):\n",
    "    return pd.read_csv(file_path)\n",
    "\n",
    "def calculate_selected_foods(faktor, food_sources):\n",
    "    selected_foods = food_sources.loc[food_sources[\"Name\"].isin(list(faktor.keys())), [\"Name\", \"Calories (kcal)\", \"Protein (g)\", \"Carbs (g)\", \"Fat (g)\"]]\n",
    "\n",
    "    for bahan, nilai in faktor.items():\n",
    "        selected_foods.loc[selected_foods[\"Name\"] == bahan, [\"Calories (kcal)\", \"Protein (g)\", \"Carbs (g)\", \"Fat (g)\",]] = (selected_foods.loc[selected_foods[\"Name\"] == bahan, [\"Calories (kcal)\", \"Protein (g)\", \"Carbs (g)\", \"Fat (g)\",]] / 100) * nilai\n",
    "        selected_foods.loc[selected_foods[\"Name\"] == bahan, \"Portion (g)\"] = nilai\n",
    "    return selected_foods"
   ]
  },
  {
   "cell_type": "code",
   "execution_count": null,
   "metadata": {},
   "outputs": [],
   "source": [
    "def create_stacked_bar_plot(daily_macro, selected_food):\n",
    "    selected_food.rename(columns={\n",
    "        \"Calories (kcal)\": \"Calories\",\n",
    "        \"Protein (g)\": \"Protein\",\n",
    "        \"Carbs (g)\": \"Carbs\",\n",
    "        \"Fat (g)\": \"Fat\"\n",
    "    }, inplace=True)\n",
    "\n",
    "    total_selected_macro = selected_food.sum()\n",
    "\n",
    "    percentage_df = pd.DataFrame({\n",
    "        \"Selected Food\": total_selected_macro.values,\n",
    "        \"Selected Food (%)\": round((total_selected_macro / pd.Series(daily_macro)) * 100),\n",
    "        \"Daily Macro\": pd.Series(daily_macro),\n",
    "        \"Daily Macro (%)\": round(100 - ((total_selected_macro / pd.Series(daily_macro)) * 100)).clip(lower=0),\n",
    "        \"Exceeds\": total_selected_macro.values > pd.Series(daily_macro)\n",
    "    }, index=total_selected_macro.index)\n",
    "\n",
    "    return percentage_df"
   ]
  },
  {
   "cell_type": "code",
   "execution_count": 75,
   "metadata": {},
   "outputs": [],
   "source": [
    "# Example Usage:\n",
    "food_sources = pd.read_csv(\"./data/food_sources.csv\")\n",
    "\n",
    "faktor = {'ayam': 400, 'nasi': 500, 'buncis': 200, 'telor': 250, 'tempe': 150}\n",
    "daily_macro = {\"Calories\": 2000, \"Protein\": 150, \"Carbs\": 200, \"Fat\": 50}\n",
    "selected_foods = calculate_selected_foods(faktor, food_sources)\n",
    "percentage_df = create_stacked_bar_plot(daily_macro, selected_foods)"
   ]
  },
  {
   "cell_type": "code",
   "execution_count": 85,
   "metadata": {},
   "outputs": [
    {
     "data": {
      "text/html": [
       "<div>\n",
       "<style scoped>\n",
       "    .dataframe tbody tr th:only-of-type {\n",
       "        vertical-align: middle;\n",
       "    }\n",
       "\n",
       "    .dataframe tbody tr th {\n",
       "        vertical-align: top;\n",
       "    }\n",
       "\n",
       "    .dataframe thead th {\n",
       "        text-align: right;\n",
       "    }\n",
       "</style>\n",
       "<table border=\"1\" class=\"dataframe\">\n",
       "  <thead>\n",
       "    <tr style=\"text-align: right;\">\n",
       "      <th></th>\n",
       "      <th>Name</th>\n",
       "      <th>Calories (kcal)</th>\n",
       "      <th>Protein (g)</th>\n",
       "      <th>Carbs (g)</th>\n",
       "      <th>Fat (g)</th>\n",
       "      <th>Portion (g)</th>\n",
       "    </tr>\n",
       "  </thead>\n",
       "  <tbody>\n",
       "    <tr>\n",
       "      <th>11</th>\n",
       "      <td>ayam</td>\n",
       "      <td>656.0</td>\n",
       "      <td>124.0</td>\n",
       "      <td>0.00</td>\n",
       "      <td>14.4</td>\n",
       "      <td>400.0</td>\n",
       "    </tr>\n",
       "    <tr>\n",
       "      <th>12</th>\n",
       "      <td>telor</td>\n",
       "      <td>357.5</td>\n",
       "      <td>32.5</td>\n",
       "      <td>1.75</td>\n",
       "      <td>25.0</td>\n",
       "      <td>250.0</td>\n",
       "    </tr>\n",
       "    <tr>\n",
       "      <th>15</th>\n",
       "      <td>tempe</td>\n",
       "      <td>288.0</td>\n",
       "      <td>28.5</td>\n",
       "      <td>16.50</td>\n",
       "      <td>13.5</td>\n",
       "      <td>150.0</td>\n",
       "    </tr>\n",
       "    <tr>\n",
       "      <th>27</th>\n",
       "      <td>buncis</td>\n",
       "      <td>60.0</td>\n",
       "      <td>3.6</td>\n",
       "      <td>14.00</td>\n",
       "      <td>0.2</td>\n",
       "      <td>200.0</td>\n",
       "    </tr>\n",
       "    <tr>\n",
       "      <th>28</th>\n",
       "      <td>nasi</td>\n",
       "      <td>650.0</td>\n",
       "      <td>13.5</td>\n",
       "      <td>140.00</td>\n",
       "      <td>1.5</td>\n",
       "      <td>500.0</td>\n",
       "    </tr>\n",
       "  </tbody>\n",
       "</table>\n",
       "</div>"
      ],
      "text/plain": [
       "      Name  Calories (kcal)  Protein (g)  Carbs (g)  Fat (g)  Portion (g)\n",
       "11    ayam            656.0        124.0       0.00     14.4        400.0\n",
       "12   telor            357.5         32.5       1.75     25.0        250.0\n",
       "15   tempe            288.0         28.5      16.50     13.5        150.0\n",
       "27  buncis             60.0          3.6      14.00      0.2        200.0\n",
       "28    nasi            650.0         13.5     140.00      1.5        500.0"
      ]
     },
     "execution_count": 85,
     "metadata": {},
     "output_type": "execute_result"
    }
   ],
   "source": [
    "selected_foods"
   ]
  },
  {
   "cell_type": "code",
   "execution_count": 84,
   "metadata": {},
   "outputs": [
    {
     "data": {
      "text/plain": [
       "Calories (kcal)    2011.50\n",
       "Protein (g)         202.10\n",
       "Carbs (g)           172.25\n",
       "Fat (g)              54.60\n",
       "dtype: float64"
      ]
     },
     "execution_count": 84,
     "metadata": {},
     "output_type": "execute_result"
    }
   ],
   "source": [
    "selected_foods.iloc[:, 1:5].sum()"
   ]
  },
  {
   "cell_type": "code",
   "execution_count": 93,
   "metadata": {},
   "outputs": [
    {
     "data": {
      "text/html": [
       "<div>\n",
       "<style scoped>\n",
       "    .dataframe tbody tr th:only-of-type {\n",
       "        vertical-align: middle;\n",
       "    }\n",
       "\n",
       "    .dataframe tbody tr th {\n",
       "        vertical-align: top;\n",
       "    }\n",
       "\n",
       "    .dataframe thead th {\n",
       "        text-align: right;\n",
       "    }\n",
       "</style>\n",
       "<table border=\"1\" class=\"dataframe\">\n",
       "  <thead>\n",
       "    <tr style=\"text-align: right;\">\n",
       "      <th></th>\n",
       "      <th>Bahan Makanan</th>\n",
       "      <th>Calories</th>\n",
       "      <th>Protein</th>\n",
       "      <th>Carbs</th>\n",
       "      <th>Fat</th>\n",
       "      <th>Category</th>\n",
       "    </tr>\n",
       "  </thead>\n",
       "  <tbody>\n",
       "    <tr>\n",
       "      <th>11</th>\n",
       "      <td>ayam</td>\n",
       "      <td>656.0</td>\n",
       "      <td>124.0</td>\n",
       "      <td>0.00</td>\n",
       "      <td>14.4</td>\n",
       "      <td>hewani</td>\n",
       "    </tr>\n",
       "    <tr>\n",
       "      <th>12</th>\n",
       "      <td>telor</td>\n",
       "      <td>357.5</td>\n",
       "      <td>32.5</td>\n",
       "      <td>1.75</td>\n",
       "      <td>25.0</td>\n",
       "      <td>hewani</td>\n",
       "    </tr>\n",
       "    <tr>\n",
       "      <th>15</th>\n",
       "      <td>tempe</td>\n",
       "      <td>288.0</td>\n",
       "      <td>28.5</td>\n",
       "      <td>16.50</td>\n",
       "      <td>13.5</td>\n",
       "      <td>nabati</td>\n",
       "    </tr>\n",
       "    <tr>\n",
       "      <th>27</th>\n",
       "      <td>buncis</td>\n",
       "      <td>60.0</td>\n",
       "      <td>3.6</td>\n",
       "      <td>14.00</td>\n",
       "      <td>0.2</td>\n",
       "      <td>nabati</td>\n",
       "    </tr>\n",
       "    <tr>\n",
       "      <th>28</th>\n",
       "      <td>nasi</td>\n",
       "      <td>650.0</td>\n",
       "      <td>13.5</td>\n",
       "      <td>140.00</td>\n",
       "      <td>1.5</td>\n",
       "      <td>nabati</td>\n",
       "    </tr>\n",
       "  </tbody>\n",
       "</table>\n",
       "</div>"
      ],
      "text/plain": [
       "   Bahan Makanan  Calories  Protein   Carbs   Fat Category\n",
       "11          ayam     656.0    124.0    0.00  14.4   hewani\n",
       "12         telor     357.5     32.5    1.75  25.0   hewani\n",
       "15         tempe     288.0     28.5   16.50  13.5   nabati\n",
       "27        buncis      60.0      3.6   14.00   0.2   nabati\n",
       "28          nasi     650.0     13.5  140.00   1.5   nabati"
      ]
     },
     "execution_count": 93,
     "metadata": {},
     "output_type": "execute_result"
    }
   ],
   "source": [
    "selected_foods"
   ]
  },
  {
   "cell_type": "code",
   "execution_count": 54,
   "metadata": {},
   "outputs": [
    {
     "name": "stdout",
     "output_type": "stream",
     "text": [
      "Calories shortfall by 269.1\n",
      "Protein shortfall by 25.73\n",
      "Carbs shortfall by 42.63\n",
      "Fat is sufficient\n"
     ]
    }
   ],
   "source": [
    "check_over_portion(max_calories, max_macro, estimate_calories, estimate_protein, estimate_carbs, estimate_fat)"
   ]
  },
  {
   "cell_type": "markdown",
   "metadata": {},
   "source": [
    "## Lean Gains"
   ]
  },
  {
   "cell_type": "markdown",
   "metadata": {},
   "source": []
  },
  {
   "cell_type": "markdown",
   "metadata": {},
   "source": [
    "# Body Calculator"
   ]
  },
  {
   "cell_type": "markdown",
   "metadata": {},
   "source": [
    "## BMI"
   ]
  },
  {
   "cell_type": "code",
   "execution_count": 55,
   "metadata": {},
   "outputs": [],
   "source": [
    "def calculate_bmi(height_cm, weight_kg):\n",
    "    height_m = height_cm / 100\n",
    "    bmi = weight_kg / (height_m ** 2)\n",
    "    ideal_weight_low = (18.5 * ((height_cm / 100) ** 2))\n",
    "    ideal_weight_high = (25 * ((height_cm / 100) ** 2))\n",
    "    condition = \"\"\n",
    "    if bmi < 18.5:\n",
    "        condition = \"Kurang Gizi\"\n",
    "    elif 18.5 <= bmi < 25:\n",
    "        condition = \"Normal\"\n",
    "    else:\n",
    "        condition = \"Obesitas\"\n",
    "    return {\"bmi\": bmi, \"low\": ideal_weight_low, \"high\": ideal_weight_high, \"condition\": condition}"
   ]
  },
  {
   "cell_type": "code",
   "execution_count": 56,
   "metadata": {},
   "outputs": [
    {
     "data": {
      "text/plain": [
       "{'bmi': 23.243408017070564,\n",
       " 'low': 48.55140000000001,\n",
       " 'high': 65.61000000000001,\n",
       " 'condition': 'Normal'}"
      ]
     },
     "execution_count": 56,
     "metadata": {},
     "output_type": "execute_result"
    }
   ],
   "source": [
    "calculate_bmi(162, 61)"
   ]
  },
  {
   "cell_type": "markdown",
   "metadata": {},
   "source": [
    "## Body Fat"
   ]
  },
  {
   "cell_type": "markdown",
   "metadata": {},
   "source": [
    "Navy Body Fat\n",
    "- Male = (495 / (1.0324 - 0.19077×log10(waist-neck) + 0.15456×log10(height))) - 450\n",
    "- Female = (495 / (1.29579 - 0.35004×log10(waist+hip-neck) + 0.22100×log10(height))) - 450\n",
    "\n",
    "BMI Fat\n",
    "- Male = 1.20 × BMI + 0.23 × Age - 16.2\n",
    "- Female = 1.20 × BMI + 0.23 × Age - 5.4"
   ]
  },
  {
   "cell_type": "markdown",
   "metadata": {},
   "source": [
    "#### Navy Body Fat"
   ]
  },
  {
   "cell_type": "code",
   "execution_count": 57,
   "metadata": {},
   "outputs": [],
   "source": [
    "import math\n",
    "def calculate_navy_body_fat(gender, height_cm, waist_size, neck_size, hips_size=0): # navy method\n",
    "    if gender == 'male':\n",
    "        body_fat_percentage = (495 / (1.0324 - (0.19077 * (math.log10(waist_size - neck_size))) + (0.15456*(math.log10(height_cm))))) - 450\n",
    "    elif gender == 'female':\n",
    "        body_fat_percentage = (495 / (1.29579 - (0.35004 * (math.log10(waist_size + hips_size - neck_size))) + (0.22100*(math.log10(height_cm))))) - 450\n",
    "    return round(body_fat_percentage, 2)"
   ]
  },
  {
   "cell_type": "markdown",
   "metadata": {},
   "source": [
    "#### BMI Body Fat"
   ]
  },
  {
   "cell_type": "code",
   "execution_count": 58,
   "metadata": {},
   "outputs": [],
   "source": [
    "def calculate_bmi_fat(gender, age, bmi):\n",
    "    if gender == 'male':\n",
    "        body_fat_percentage = 1.20 * bmi + 0.23 * age - 16.2\n",
    "    elif gender == 'female':\n",
    "        body_fat_percentage = 1.20 * bmi + 0.23 * age - 5.4\n",
    "    return round(body_fat_percentage, 2)"
   ]
  },
  {
   "cell_type": "markdown",
   "metadata": {},
   "source": [
    "# Calculate Wight Loss by Date Target"
   ]
  },
  {
   "cell_type": "code",
   "execution_count": 59,
   "metadata": {},
   "outputs": [],
   "source": [
    "from datetime import datetime, timedelta\n",
    "\n",
    "def calculate_weight_change(initial_weight, target_weight, start_date, target_date):\n",
    "    \"\"\"\n",
    "    Calculate weight change based on the specified goal (loss or gain).\n",
    "\n",
    "    Parameters:\n",
    "    - initial_weight (float): Initial weight in kilograms.\n",
    "    - target_weight (float): Target weight in kilograms.\n",
    "    - start_date (str): Start date in the format 'YYYY-MM-DD'.\n",
    "    - target_date (str): Target date in the format 'YYYY-MM-DD'.\n",
    "\n",
    "    Returns:\n",
    "    - result (dict): Dictionary containing calculated values.\n",
    "    \"\"\"\n",
    "    # Convert start_date and target_date to datetime objects\n",
    "    start_date = datetime.strptime(start_date, \"%Y-%m-%d\")\n",
    "    target_date = datetime.strptime(target_date, \"%Y-%m-%d\")\n",
    "\n",
    "    # Calculate total days between start_date and target_date\n",
    "    total_days = (target_date - start_date).days\n",
    "\n",
    "    # Determine whether it's weight gain or weight loss\n",
    "    goal = 'gain' if target_weight > initial_weight else 'loss'\n",
    "\n",
    "    # Calculate the target weight change\n",
    "    weight_change_target = target_weight - initial_weight if goal == 'gain' else initial_weight - target_weight\n",
    "\n",
    "    # Calculate total calories needed for the weight change\n",
    "    calories_per_kilogram = 7700\n",
    "    total_calories = weight_change_target * calories_per_kilogram\n",
    "\n",
    "    # Calculate average calories per day\n",
    "    average_calories_per_day = total_calories / total_days\n",
    "    if goal == 'loss':\n",
    "        average_calories_per_day = -average_calories_per_day  # Adjust for weight loss (negative calories)\n",
    "\n",
    "    # Calculate additional calories needed or reduced per day\n",
    "    target_change_per_week = 0.5\n",
    "    additional_calories_per_day = target_change_per_week * calories_per_kilogram / 7 if goal == 'gain' else -target_change_per_week * calories_per_kilogram / 7\n",
    "\n",
    "    # Estimate time required for 0.5 kg change per week\n",
    "    weeks_required = weight_change_target / target_change_per_week\n",
    "\n",
    "    # Calculate end date based on estimated weeks required\n",
    "    estimated_end_date = start_date + timedelta(weeks=weeks_required)\n",
    "\n",
    "    # Build the result dictionary\n",
    "    result = {\n",
    "        \"total_days\": total_days,\n",
    "        \"weight_change_target\": weight_change_target,\n",
    "        \"total_calories\": total_calories,\n",
    "        \"average_calories_per_day\": round(average_calories_per_day, 2),\n",
    "        \"goal\": goal,\n",
    "        \"weeks_required\": weeks_required,\n",
    "        \"estimated_end_date\": estimated_end_date.strftime(\"%Y-%m-%d\"),  # Format end date as string\n",
    "        \"additional_calories_per_day\": round(additional_calories_per_day, 2),\n",
    "    }\n",
    "\n",
    "    return result"
   ]
  },
  {
   "cell_type": "code",
   "execution_count": 60,
   "metadata": {},
   "outputs": [
    {
     "name": "stdout",
     "output_type": "stream",
     "text": [
      "Weight Loss Result:\n",
      "{'total_days': 121, 'weight_change_target': 10, 'total_calories': 77000, 'average_calories_per_day': -636.36, 'goal': 'loss', 'weeks_required': 20.0, 'estimated_end_date': '2024-03-30', 'additional_calories_per_day': -550.0}\n",
      "\n",
      "Weight Gain Result:\n",
      "{'total_days': 121, 'weight_change_target': 5, 'total_calories': 38500, 'average_calories_per_day': 318.18, 'goal': 'gain', 'weeks_required': 10.0, 'estimated_end_date': '2024-01-20', 'additional_calories_per_day': 550.0}\n"
     ]
    }
   ],
   "source": [
    "# Example Usage for Weight Loss:\n",
    "initial_weight_loss = 80\n",
    "target_weight_loss = 70\n",
    "start_date_loss = \"2023-11-11\"\n",
    "target_date_loss = \"2024-03-11\"\n",
    "\n",
    "weight_loss_result = calculate_weight_change(initial_weight_loss, target_weight_loss, start_date_loss, target_date_loss)\n",
    "print(\"Weight Loss Result:\")\n",
    "print(weight_loss_result)\n",
    "\n",
    "# Example Usage for Weight Gain:\n",
    "initial_weight_gain = 60\n",
    "target_weight_gain = 65\n",
    "start_date_gain = \"2023-11-11\"\n",
    "target_date_gain = \"2024-03-11\"\n",
    "\n",
    "weight_gain_result = calculate_weight_change(initial_weight_gain, target_weight_gain, start_date_gain, target_date_gain)\n",
    "print(\"\\nWeight Gain Result:\")\n",
    "print(weight_gain_result)"
   ]
  },
  {
   "cell_type": "code",
   "execution_count": 61,
   "metadata": {},
   "outputs": [],
   "source": [
    "data_user = {\n",
    "    \"name\": \"Rizki Aldiansyah\",\n",
    "    \"age\": 23,\n",
    "    \"gender\": \"male\",\n",
    "    \"height\": 163,\n",
    "    \"weight\": 65,\n",
    "    \"neck_size\": 39,\n",
    "    \"waist_size\": 90,\n",
    "    \"hips_size\": 93,\n",
    "    \"activity_level\": \"very active\",\n",
    "    \"goals\": \"slowly lose weight\"\n",
    "}"
   ]
  },
  {
   "cell_type": "markdown",
   "metadata": {},
   "source": [
    "Body"
   ]
  },
  {
   "cell_type": "code",
   "execution_count": 62,
   "metadata": {},
   "outputs": [
    {
     "data": {
      "text/plain": [
       "{'bmi': 24.46460160337235,\n",
       " 'low': 49.152649999999994,\n",
       " 'high': 66.4225,\n",
       " 'condition': 'Normal'}"
      ]
     },
     "execution_count": 62,
     "metadata": {},
     "output_type": "execute_result"
    }
   ],
   "source": [
    "BMI = calculate_bmi(data_user['height'],data_user['weight'])\n",
    "BMI"
   ]
  },
  {
   "cell_type": "code",
   "execution_count": 63,
   "metadata": {},
   "outputs": [
    {
     "name": "stdout",
     "output_type": "stream",
     "text": [
      "==Fat==\n",
      "Navy: 22.07\n",
      "BMI: 18.45\n"
     ]
    }
   ],
   "source": [
    "navy_Fat = calculate_navy_body_fat(\"male\", data_user[\"height\"], waist_size=data_user[\"waist_size\"], neck_size=data_user[\"neck_size\"], hips_size=data_user[\"hips_size\"])\n",
    "bmi_Fat = calculate_bmi_fat(\"male\", data_user['age'], BMI['bmi'])\n",
    "print(\"==Fat==\")\n",
    "print(f\"Navy: {navy_Fat}\")\n",
    "print(f\"BMI: {bmi_Fat}\")"
   ]
  },
  {
   "cell_type": "markdown",
   "metadata": {},
   "source": [
    "Nutrition"
   ]
  },
  {
   "cell_type": "code",
   "execution_count": 64,
   "metadata": {},
   "outputs": [
    {
     "name": "stdout",
     "output_type": "stream",
     "text": [
      "BMR: 1558.75\n",
      "TDEE: 2688.84375\n",
      "Daily Calories: 2419.959375\n"
     ]
    }
   ],
   "source": [
    "BMR = calculate_bmr(\"male\", data_user[\"weight\"], data_user[\"height\"], data_user[\"age\"])\n",
    "TDEE = calculate_tdee(BMR, data_user[\"activity_level\"])\n",
    "Daily_cal = calculate_daily_calories(TDEE, data_user[\"goals\"])\n",
    "\n",
    "print(f\"BMR: {BMR}\")\n",
    "print(f\"TDEE: {TDEE}\")\n",
    "print(f\"Daily Calories: {Daily_cal}\")"
   ]
  },
  {
   "cell_type": "code",
   "execution_count": 65,
   "metadata": {},
   "outputs": [
    {
     "data": {
      "text/plain": [
       "{'protein': 143.3003, 'carbs': 277.01372625, 'fat': 82.07814111111111}"
      ]
     },
     "execution_count": 65,
     "metadata": {},
     "output_type": "execute_result"
    }
   ],
   "source": [
    "Macro = calculate_macro(Daily_cal, data_user[\"weight\"], 60)\n",
    "Macro"
   ]
  },
  {
   "cell_type": "code",
   "execution_count": 66,
   "metadata": {},
   "outputs": [],
   "source": [
    "# Example Usage:\n",
    "file_path = \"./backend/data/food_sources.csv\"\n",
    "food_sources = load_food_sources(file_path)\n",
    "\n",
    "faktor = {'ayam': 400, 'nasi': 500, 'buncis': 200, 'telor': 250, 'tempe': 150}\n",
    "selected_foods = calculate_selected_foods(faktor, food_sources)\n",
    "\n",
    "estimate_calories, estimate_protein, estimate_carbs, estimate_fat = selected_foods.sum()[1:5]"
   ]
  },
  {
   "cell_type": "code",
   "execution_count": 67,
   "metadata": {},
   "outputs": [
    {
     "data": {
      "text/html": [
       "<div>\n",
       "<style scoped>\n",
       "    .dataframe tbody tr th:only-of-type {\n",
       "        vertical-align: middle;\n",
       "    }\n",
       "\n",
       "    .dataframe tbody tr th {\n",
       "        vertical-align: top;\n",
       "    }\n",
       "\n",
       "    .dataframe thead th {\n",
       "        text-align: right;\n",
       "    }\n",
       "</style>\n",
       "<table border=\"1\" class=\"dataframe\">\n",
       "  <thead>\n",
       "    <tr style=\"text-align: right;\">\n",
       "      <th></th>\n",
       "      <th>Bahan Makanan</th>\n",
       "      <th>Calories</th>\n",
       "      <th>Protein</th>\n",
       "      <th>Carbs</th>\n",
       "      <th>Fat</th>\n",
       "      <th>Category</th>\n",
       "    </tr>\n",
       "  </thead>\n",
       "  <tbody>\n",
       "    <tr>\n",
       "      <th>11</th>\n",
       "      <td>ayam</td>\n",
       "      <td>656.0</td>\n",
       "      <td>124.0</td>\n",
       "      <td>0.00</td>\n",
       "      <td>14.4</td>\n",
       "      <td>hewani</td>\n",
       "    </tr>\n",
       "    <tr>\n",
       "      <th>12</th>\n",
       "      <td>telor</td>\n",
       "      <td>357.5</td>\n",
       "      <td>32.5</td>\n",
       "      <td>1.75</td>\n",
       "      <td>25.0</td>\n",
       "      <td>hewani</td>\n",
       "    </tr>\n",
       "    <tr>\n",
       "      <th>15</th>\n",
       "      <td>tempe</td>\n",
       "      <td>288.0</td>\n",
       "      <td>28.5</td>\n",
       "      <td>16.50</td>\n",
       "      <td>13.5</td>\n",
       "      <td>nabati</td>\n",
       "    </tr>\n",
       "    <tr>\n",
       "      <th>27</th>\n",
       "      <td>buncis</td>\n",
       "      <td>60.0</td>\n",
       "      <td>3.6</td>\n",
       "      <td>14.00</td>\n",
       "      <td>0.2</td>\n",
       "      <td>nabati</td>\n",
       "    </tr>\n",
       "    <tr>\n",
       "      <th>28</th>\n",
       "      <td>nasi</td>\n",
       "      <td>650.0</td>\n",
       "      <td>13.5</td>\n",
       "      <td>140.00</td>\n",
       "      <td>1.5</td>\n",
       "      <td>nabati</td>\n",
       "    </tr>\n",
       "  </tbody>\n",
       "</table>\n",
       "</div>"
      ],
      "text/plain": [
       "   Bahan Makanan  Calories  Protein   Carbs   Fat Category\n",
       "11          ayam     656.0    124.0    0.00  14.4   hewani\n",
       "12         telor     357.5     32.5    1.75  25.0   hewani\n",
       "15         tempe     288.0     28.5   16.50  13.5   nabati\n",
       "27        buncis      60.0      3.6   14.00   0.2   nabati\n",
       "28          nasi     650.0     13.5  140.00   1.5   nabati"
      ]
     },
     "execution_count": 67,
     "metadata": {},
     "output_type": "execute_result"
    }
   ],
   "source": [
    "selected_foods"
   ]
  },
  {
   "cell_type": "code",
   "execution_count": 68,
   "metadata": {},
   "outputs": [
    {
     "name": "stdout",
     "output_type": "stream",
     "text": [
      "Calories shortfall by 408.46\n",
      "Protein shortfall by 58.8\n",
      "Carbs shortfall by 104.76\n",
      "Fat shortfall by 27.48\n"
     ]
    }
   ],
   "source": [
    "check_over_portion(Daily_cal, Macro, estimate_calories, estimate_protein, estimate_carbs, estimate_fat)"
   ]
  },
  {
   "cell_type": "markdown",
   "metadata": {},
   "source": [
    "Target Weight Loss"
   ]
  },
  {
   "cell_type": "code",
   "execution_count": 69,
   "metadata": {},
   "outputs": [
    {
     "data": {
      "text/plain": [
       "65"
      ]
     },
     "execution_count": 69,
     "metadata": {},
     "output_type": "execute_result"
    }
   ],
   "source": [
    "data_user[\"weight\"]"
   ]
  },
  {
   "cell_type": "code",
   "execution_count": 70,
   "metadata": {},
   "outputs": [
    {
     "name": "stdout",
     "output_type": "stream",
     "text": [
      "\n",
      "Weight Gain Result:\n",
      "{'total_days': 121, 'weight_change_target': 2, 'total_calories': 15400, 'average_calories_per_day': -127.27, 'goal': 'loss', 'weeks_required': 4.0, 'estimated_end_date': '2023-12-09', 'additional_calories_per_day': -550.0}\n"
     ]
    }
   ],
   "source": [
    "start_date = \"2023-11-11\"\n",
    "target_date = \"2024-03-11\"\n",
    "\n",
    "weight_gain_result = calculate_weight_change(data_user[\"weight\"], 63, start_date, target_date)\n",
    "print(\"\\nWeight Gain Result:\")\n",
    "print(weight_gain_result)"
   ]
  },
  {
   "cell_type": "markdown",
   "metadata": {},
   "source": []
  },
  {
   "cell_type": "code",
   "execution_count": 71,
   "metadata": {},
   "outputs": [],
   "source": [
    "from frontend.fit_calculators import FitnessCalculator"
   ]
  },
  {
   "cell_type": "code",
   "execution_count": 72,
   "metadata": {},
   "outputs": [],
   "source": [
    "user_data = {\n",
    "    \"gender\": \"male\",\n",
    "    \"height_cm\": 175,\n",
    "    \"weight_kg\": 80,\n",
    "    \"neck_size\": 38,\n",
    "    \"hips_size\": 116,\n",
    "    \"waist_size\": 111,\n",
    "    \"age\": 30,\n",
    "    \"activity_level\": \"moderately active\",\n",
    "    \"goal\": \"lose weight\",\n",
    "    \"start_date\": \"2023-11-11\",\n",
    "    \"target_date\": \"2024-03-11\",\n",
    "    \"target_weight\": 75\n",
    "}"
   ]
  },
  {
   "cell_type": "code",
   "execution_count": 73,
   "metadata": {},
   "outputs": [
    {
     "name": "stdout",
     "output_type": "stream",
     "text": [
      "BMI Result:\n",
      "{'bmi': 26.122448979591837, 'low': 56.65625, 'high': 76.5625, 'condition': 'Overweight'}\n",
      "\n",
      "Navy Body Fat Result:\n",
      "33.58\n",
      "\n",
      "BMI Fat Result:\n",
      "22.05\n",
      "\n",
      "BMR Result:\n",
      "1748.75\n",
      "\n",
      "TDEE Result:\n",
      "2710.5625\n",
      "\n",
      "Daily Calories Result:\n",
      "2168.45\n",
      "\n",
      "Macro Result:\n",
      "{'protein': 176.3696, 'carbs': 182.87144999999998, 'fat': 81.27619999999999, 'protein_percentage': 705.4784, 'carbs_percentage': 731.4857999999999, 'fat_percentage': 731.4857999999999}\n",
      "\n",
      "Weight Change Result:\n",
      "{'total_days': 121, 'total_days_estimate': 50, 'weight_change_target': 5, 'total_calories': 38500, 'average_calories_per_day': -318.18, 'goal': 'loss', 'weeks_required': 7.142857142857143, 'estimated_end_date': '2023-12-31', 'additional_calories_per_day': -770.0}\n"
     ]
    }
   ],
   "source": [
    "calculator = FitnessCalculator(**user_data)\n",
    "\n",
    "# Contoh penggunaan fungsi-fungsi di dalam class\n",
    "bmi_result = calculator.calculate_bmi()\n",
    "navy_body_fat_result = calculator.calculate_navy_body_fat()\n",
    "bmi_fat_result = calculator.calculate_bmi_fat()\n",
    "bmr_result = calculator.calculate_bmr()\n",
    "tdee_result = calculator.calculate_tdee()\n",
    "daily_calories_result = calculator.calculate_daily_calories()\n",
    "macro_result = calculator.calculate_macro()\n",
    "weight_change_result = calculator.calculate_weight_change()\n",
    "\n",
    "# Print hasil-hasilnya\n",
    "print(\"BMI Result:\")\n",
    "print(bmi_result)\n",
    "\n",
    "print(\"\\nNavy Body Fat Result:\")\n",
    "print(navy_body_fat_result)\n",
    "\n",
    "print(\"\\nBMI Fat Result:\")\n",
    "print(bmi_fat_result)\n",
    "\n",
    "print(\"\\nBMR Result:\")\n",
    "print(bmr_result)\n",
    "\n",
    "print(\"\\nTDEE Result:\")\n",
    "print(tdee_result)\n",
    "\n",
    "print(\"\\nDaily Calories Result:\")\n",
    "print(daily_calories_result)\n",
    "\n",
    "print(\"\\nMacro Result:\")\n",
    "print(macro_result)\n",
    "\n",
    "print(\"\\nWeight Change Result:\")\n",
    "print(weight_change_result)\n"
   ]
  },
  {
   "cell_type": "markdown",
   "metadata": {},
   "source": [
    "**NOTED!!**\n",
    "Dibawah ini merupakan perhitungan untuk estimasi berapa kg yang dapat dikurangi dalam satu hari jika defisit atau tambahan kalori sesuai dengan hasil perhitunga"
   ]
  },
  {
   "cell_type": "markdown",
   "metadata": {},
   "source": [
    "**TODO**\n",
    "\n",
    "Buatkan schedule diet menggunakan metode zig zag. daily calori menggunakan \"select goals\", \"date target\", \"standard goals estimated\""
   ]
  },
  {
   "cell_type": "code",
   "execution_count": 74,
   "metadata": {},
   "outputs": [],
   "source": [
    "import pandas as pd\n",
    "import numpy as np\n",
    "import matplotlib.pyplot as plt"
   ]
  },
  {
   "cell_type": "code",
   "execution_count": 75,
   "metadata": {},
   "outputs": [
    {
     "data": {
      "text/plain": [
       "770.0"
      ]
     },
     "execution_count": 75,
     "metadata": {},
     "output_type": "execute_result"
    }
   ],
   "source": [
    "1100*0.7"
   ]
  },
  {
   "cell_type": "code",
   "execution_count": 76,
   "metadata": {},
   "outputs": [
    {
     "data": {
      "image/png": "[encoded data removed]",
      "text/plain": [
       "<Figure size 1000x600 with 1 Axes>"
      ]
     },
     "metadata": {},
     "output_type": "display_data"
    }
   ],
   "source": [
    "dates = pd.date_range(start=\"2023-11-11\", periods=weight_change_result['total_days'])\n",
    "weight_kg = user_data[\"weight_kg\"]\n",
    "weights = [weight_kg]\n",
    "# Iterasi untuk menghitung berat badan setiap hari\n",
    "for day in range(1, weight_change_result['total_days']):\n",
    "    weight_kg += weight_change_result['average_calories_per_day'] / 7700\n",
    "    weights.append(weight_kg)\n",
    "\n",
    "# Buat DataFrame\n",
    "df = pd.DataFrame({'Date': dates, 'Weight': weights})\n",
    "\n",
    "dates_2 = pd.date_range(start=\"2023-11-11\", periods=weight_change_result['total_days_estimate'])\n",
    "weight_kg = user_data[\"weight_kg\"]\n",
    "weights = [weight_kg]\n",
    "# Iterasi untuk menghitung berat badan setiap hari\n",
    "for day in range(1, weight_change_result['total_days_estimate']):\n",
    "    weight_kg += weight_change_result['additional_calories_per_day'] / 7700\n",
    "    weights.append(weight_kg)\n",
    "\n",
    "# Buat DataFrame\n",
    "df_2 = pd.DataFrame({'Date': dates_2, 'Weight': weights})\n",
    "\n",
    "df_combined = pd.merge(df, df_2, on='Date', how='outer', suffixes=('_Data1', '_Data2'))\n",
    "\n",
    "# Buat line chart\n",
    "plt.figure(figsize=(10, 6))\n",
    "plt.plot(df_combined['Date'], df_combined['Weight_Data1'], label='Data 1')\n",
    "plt.plot(df_combined['Date'], df_combined['Weight_Data2'], label='Data 2')\n",
    "plt.title('Line Chart of Weight Data')\n",
    "plt.xlabel('Date')\n",
    "plt.ylabel('Weight')\n",
    "plt.legend()\n",
    "plt.grid(True)\n",
    "plt.show()"
   ]
  },
  {
   "cell_type": "code",
   "execution_count": 87,
   "metadata": {},
   "outputs": [],
   "source": [
    "def calculate_macro(weight_kg, daily_calories, carbs_percentage=50):\n",
    "    pounds = weight_kg * 2.20462\n",
    "    protein_cal = pounds * 4 # Change this value based on your desired carb percentage\n",
    "    fat_percentage = 100 - carbs_percentage\n",
    "\n",
    "    carb_cal = (daily_calories - protein_cal) * (carbs_percentage / 100)\n",
    "    fat_cal = (daily_calories - protein_cal) * (fat_percentage / 100)\n",
    "\n",
    "    protein_gram = pounds\n",
    "    carbs_gram = carb_cal / 4\n",
    "    fat_gram = fat_cal / 9\n",
    "\n",
    "    return {\"protein\": protein_gram, \"carbs\": carbs_gram, \"fat\": fat_gram,\n",
    "            \"protein_percentage\": protein_cal, \"carbs_percentage\": carb_cal, \"fat_percentage\": fat_cal}"
   ]
  },
  {
   "cell_type": "code",
   "execution_count": 88,
   "metadata": {},
   "outputs": [
    {
     "data": {
      "image/png": "[encoded data removed]",
      "text/plain": [
       "<Figure size 1000x600 with 1 Axes>"
      ]
     },
     "metadata": {},
     "output_type": "display_data"
    }
   ],
   "source": [
    "import matplotlib.pyplot as plt\n",
    "\n",
    "# Buat DataFrame mingguan untuk Data 1\n",
    "df_weekly_1 = df.set_index('Date').resample('W-Mon').mean().reset_index()\n",
    "\n",
    "# Buat DataFrame mingguan untuk Data 2\n",
    "df_weekly_2 = df_2.set_index('Date').resample('W-Mon').mean().reset_index()\n",
    "\n",
    "# Buat line chart\n",
    "plt.figure(figsize=(10, 6))\n",
    "plt.plot(df_weekly_1['Date'], df_weekly_1['Weight'], label='Data 1 (Weekly)')\n",
    "plt.plot(df_weekly_2['Date'], df_weekly_2['Weight'], label='Data 2 (Weekly)')\n",
    "plt.title('Weekly Line Chart of Weight Data')\n",
    "plt.xlabel('Date')\n",
    "plt.ylabel('Weight')\n",
    "plt.legend()\n",
    "plt.grid(True)\n",
    "plt.show()\n"
   ]
  },
  {
   "cell_type": "code",
   "execution_count": 89,
   "metadata": {},
   "outputs": [
    {
     "name": "stdout",
     "output_type": "stream",
     "text": [
      "{'protein': 176.3696, 'carbs': 129.61520000000002, 'fat': 57.606755555555566, 'protein_percentage': 705.4784, 'carbs_percentage': 518.4608000000001, 'fat_percentage': 518.4608000000001}\n",
      "{'protein': 175.92867599999997, 'carbs': 129.835662, 'fat': 57.70473866666667, 'protein_percentage': 703.7147039999999, 'carbs_percentage': 519.342648, 'fat_percentage': 519.342648}\n",
      "{'protein': 175.26728999999997, 'carbs': 130.166355, 'fat': 57.851713333333336, 'protein_percentage': 701.0691599999999, 'carbs_percentage': 520.66542, 'fat_percentage': 520.66542}\n",
      "{'protein': 174.60590399999998, 'carbs': 130.497048, 'fat': 57.998688, 'protein_percentage': 698.4236159999999, 'carbs_percentage': 521.988192, 'fat_percentage': 521.988192}\n",
      "{'protein': 173.944518, 'carbs': 130.827741, 'fat': 58.14566266666667, 'protein_percentage': 695.778072, 'carbs_percentage': 523.310964, 'fat_percentage': 523.310964}\n",
      "{'protein': 173.28313199999997, 'carbs': 131.15843400000003, 'fat': 58.292637333333346, 'protein_percentage': 693.1325279999999, 'carbs_percentage': 524.6337360000001, 'fat_percentage': 524.6337360000001}\n",
      "{'protein': 172.62174599999997, 'carbs': 131.48912700000002, 'fat': 58.43961200000001, 'protein_percentage': 690.4869839999999, 'carbs_percentage': 525.9565080000001, 'fat_percentage': 525.9565080000001}\n",
      "{'protein': 171.96035999999998, 'carbs': 131.81982000000002, 'fat': 58.586586666666676, 'protein_percentage': 687.8414399999999, 'carbs_percentage': 527.2792800000001, 'fat_percentage': 527.2792800000001}\n",
      "{'protein': 171.298974, 'carbs': 132.15051300000002, 'fat': 58.73356133333334, 'protein_percentage': 685.195896, 'carbs_percentage': 528.6020520000001, 'fat_percentage': 528.6020520000001}\n",
      "{'protein': 170.637588, 'carbs': 132.48120600000001, 'fat': 58.880536000000006, 'protein_percentage': 682.550352, 'carbs_percentage': 529.9248240000001, 'fat_percentage': 529.9248240000001}\n",
      "{'protein': 169.97620199999997, 'carbs': 132.81189900000004, 'fat': 59.027510666666686, 'protein_percentage': 679.9048079999999, 'carbs_percentage': 531.2475960000002, 'fat_percentage': 531.2475960000002}\n",
      "{'protein': 169.535278, 'carbs': 133.032361, 'fat': 59.125493777777784, 'protein_percentage': 678.141112, 'carbs_percentage': 532.129444, 'fat_percentage': 532.129444}\n",
      "{'protein': 168.87389199999998, 'carbs': 133.36305400000003, 'fat': 59.272468444444456, 'protein_percentage': 675.4955679999999, 'carbs_percentage': 533.4522160000001, 'fat_percentage': 533.4522160000001}\n",
      "{'protein': 168.212506, 'carbs': 133.69374700000003, 'fat': 59.41944311111112, 'protein_percentage': 672.850024, 'carbs_percentage': 534.7749880000001, 'fat_percentage': 534.7749880000001}\n",
      "{'protein': 167.55112, 'carbs': 134.02444000000003, 'fat': 59.56641777777779, 'protein_percentage': 670.20448, 'carbs_percentage': 536.0977600000001, 'fat_percentage': 536.0977600000001}\n",
      "{'protein': 166.889734, 'carbs': 134.35513300000002, 'fat': 59.71339244444445, 'protein_percentage': 667.558936, 'carbs_percentage': 537.4205320000001, 'fat_percentage': 537.4205320000001}\n",
      "{'protein': 166.228348, 'carbs': 134.68582600000002, 'fat': 59.86036711111112, 'protein_percentage': 664.913392, 'carbs_percentage': 538.7433040000001, 'fat_percentage': 538.7433040000001}\n",
      "{'protein': 165.56696199999996, 'carbs': 135.01651900000002, 'fat': 60.00734177777778, 'protein_percentage': 662.2678479999998, 'carbs_percentage': 540.0660760000001, 'fat_percentage': 540.0660760000001}\n"
     ]
    }
   ],
   "source": [
    "for idx, row in df_weekly_1.iterrows():\n",
    "    print(calculate_macro(round(row[\"Weight\"],1), daily_calories=daily_cal))"
   ]
  },
  {
   "cell_type": "code",
   "execution_count": 56,
   "metadata": {},
   "outputs": [],
   "source": [
    "import pandas as pd\n",
    "import matplotlib.pyplot as plt\n",
    "\n",
    "# Fungsi untuk membuat stacked bar plot\n",
    "def create_stacked_bar_plot(daily_macro, selected_food):\n",
    "    # Hitung total macro dari makanan yang dipilih\n",
    "    selected_food_df = pd.DataFrame(selected_food.values(), index=selected_food.keys(), columns=[\"Calories\", \"Protein\", \"Carbs\", \"Fat\"])\n",
    "    total_selected_macro = selected_food_df.sum()\n",
    "\n",
    "    # Buat DataFrame untuk persentase\n",
    "    percentage_df = pd.DataFrame({\n",
    "        \"Selected Food\": total_selected_macro.values,\n",
    "        \"Selected Food (%)\": round((total_selected_macro / pd.Series(daily_macro)) * 100),\n",
    "        \"Daily Macro\": pd.Series(daily_macro),\n",
    "        \"Daily Macro (%)\": round(100 - ((total_selected_macro / pd.Series(daily_macro)) * 100)).clip(lower=0),\n",
    "        \"Exceeds\": total_selected_macro.values > pd.Series(daily_macro)\n",
    "    }, index=total_selected_macro.index)\n",
    "\n",
    "    return percentage_df\n",
    "\n",
    "# Contoh penggunaan\n",
    "daily_macro = {\"Calories\": 2000, \"Protein\": 150, \"Carbs\": 200, \"Fat\": 50}\n",
    "selected_food = {\"Chicken\": [400, 30, 0, 10], \"Rice\": [150, 3, 30, 1], \"Broccoli\": [50, 5, 10, 30], \"Meat\": [1500, 120, 100, 40]}\n",
    "percentage_df = create_stacked_bar_plot(daily_macro, selected_food)"
   ]
  },
  {
   "cell_type": "code",
   "execution_count": 57,
   "metadata": {},
   "outputs": [
    {
     "data": {
      "text/html": [
       "<div>\n",
       "<style scoped>\n",
       "    .dataframe tbody tr th:only-of-type {\n",
       "        vertical-align: middle;\n",
       "    }\n",
       "\n",
       "    .dataframe tbody tr th {\n",
       "        vertical-align: top;\n",
       "    }\n",
       "\n",
       "    .dataframe thead th {\n",
       "        text-align: right;\n",
       "    }\n",
       "</style>\n",
       "<table border=\"1\" class=\"dataframe\">\n",
       "  <thead>\n",
       "    <tr style=\"text-align: right;\">\n",
       "      <th></th>\n",
       "      <th>Selected Food</th>\n",
       "      <th>Selected Food (%)</th>\n",
       "      <th>Daily Macro</th>\n",
       "      <th>Daily Macro (%)</th>\n",
       "      <th>Exceeds</th>\n",
       "    </tr>\n",
       "  </thead>\n",
       "  <tbody>\n",
       "    <tr>\n",
       "      <th>Calories</th>\n",
       "      <td>2100</td>\n",
       "      <td>105.0</td>\n",
       "      <td>2000</td>\n",
       "      <td>0.0</td>\n",
       "      <td>True</td>\n",
       "    </tr>\n",
       "    <tr>\n",
       "      <th>Protein</th>\n",
       "      <td>158</td>\n",
       "      <td>105.0</td>\n",
       "      <td>150</td>\n",
       "      <td>0.0</td>\n",
       "      <td>True</td>\n",
       "    </tr>\n",
       "    <tr>\n",
       "      <th>Carbs</th>\n",
       "      <td>140</td>\n",
       "      <td>70.0</td>\n",
       "      <td>200</td>\n",
       "      <td>30.0</td>\n",
       "      <td>False</td>\n",
       "    </tr>\n",
       "    <tr>\n",
       "      <th>Fat</th>\n",
       "      <td>81</td>\n",
       "      <td>162.0</td>\n",
       "      <td>50</td>\n",
       "      <td>0.0</td>\n",
       "      <td>True</td>\n",
       "    </tr>\n",
       "  </tbody>\n",
       "</table>\n",
       "</div>"
      ],
      "text/plain": [
       "          Selected Food  Selected Food (%)  Daily Macro  Daily Macro (%)  \\\n",
       "Calories           2100              105.0         2000              0.0   \n",
       "Protein             158              105.0          150              0.0   \n",
       "Carbs               140               70.0          200             30.0   \n",
       "Fat                  81              162.0           50              0.0   \n",
       "\n",
       "          Exceeds  \n",
       "Calories     True  \n",
       "Protein      True  \n",
       "Carbs       False  \n",
       "Fat          True  "
      ]
     },
     "execution_count": 57,
     "metadata": {},
     "output_type": "execute_result"
    }
   ],
   "source": [
    "percentage_df"
   ]
  },
  {
   "cell_type": "code",
   "execution_count": 67,
   "metadata": {},
   "outputs": [
    {
     "data": {
      "image/png": "[encoded data removed]",
      "text/plain": [
       "<Figure size 1000x600 with 1 Axes>"
      ]
     },
     "metadata": {},
     "output_type": "display_data"
    }
   ],
   "source": [
    "# Buat stacked bar plot\n",
    "fig, ax = plt.subplots(figsize=(10, 6))\n",
    "ax.bar(percentage_df.index, percentage_df['Selected Food (%)'], label=\"Selected Food (%)\")\n",
    "ax.bar(percentage_df.index, percentage_df['Daily Macro (%)'], bottom=percentage_df['Selected Food (%)'], label=\"Daily Macro (%)\")\n",
    "\n",
    "for c in ax.containers:\n",
    "    labels = [str(round(v.get_height(), 2)) + \"%\" if v.get_height() > 0 else '' for v in c]\n",
    "    ax.bar_label(c, label_type=\"center\", labels=labels, size=14)\n",
    "\n",
    "ax.axhline(y=100, color='red', linestyle='--', linewidth=2, label='Target 100%')\n",
    "\n",
    "ax.tick_params(labelsize=14, labelrotation=0)\n",
    "ax.set_ylabel(\"Percentage\", size=14)\n",
    "ax.set_xlabel(\"Macro\", size=14)\n",
    "\n",
    "ax.legend(labels=['Max Daily Macro', 'Total Food', 'Remaining Daily'],\n",
    "          fontsize=12,\n",
    "          title='Macro Nutritions',\n",
    "          title_fontsize=18\n",
    "          )\n",
    "\n",
    "plt.show()"
   ]
  },
  {
   "cell_type": "code",
   "execution_count": 3,
   "metadata": {},
   "outputs": [
    {
     "name": "stdout",
     "output_type": "stream",
     "text": [
      "pandas==1.5.3\n",
      "scikit-learn==1.2.1\n",
      "streamlit==1.25.0\n",
      "plotly==5.15.0\n",
      "numpy==1.24.1\n"
     ]
    }
   ],
   "source": [
    "import pkg_resources\n",
    "\n",
    "libraries = ['pandas', 'scikit-learn', 'streamlit', 'plotly', 'numpy']\n",
    "\n",
    "for lib in libraries:\n",
    "    try:\n",
    "        version = pkg_resources.get_distribution(lib).version\n",
    "        print(f\"{lib}=={version}\")\n",
    "    except pkg_resources.DistributionNotFound:\n",
    "        print(f\"{lib}: not installed\")\n"
   ]
  },
  {
   "cell_type": "code",
   "execution_count": null,
   "metadata": {},
   "outputs": [],
   "source": []
  }
 ],
 "metadata": {
  "kernelspec": {
   "display_name": "Base",
   "language": "python",
   "name": "python3"
  },
  "language_info": {
   "codemirror_mode": {
    "name": "ipython",
    "version": 3
   },
   "file_extension": ".py",
   "mimetype": "text/x-python",
   "name": "python",
   "nbconvert_exporter": "python",
   "pygments_lexer": "ipython3",
   "version": "3.10.11"
  },
  "orig_nbformat": 4
 },
 "nbformat": 4,
 "nbformat_minor": 2
}
